{
 "cells": [
  {
   "cell_type": "code",
   "execution_count": 9,
   "metadata": {
    "ExecuteTime": {
     "end_time": "2021-02-01T08:50:27.902039Z",
     "start_time": "2021-02-01T08:50:27.887Z"
    }
   },
   "outputs": [],
   "source": [
    "e <- rnorm(2000,0,1)\n",
    "u <- rnorm(2000,0,1)\n",
    "v <- rnorm(2000,0,1)"
   ]
  },
  {
   "cell_type": "code",
   "execution_count": 8,
   "metadata": {
    "ExecuteTime": {
     "end_time": "2021-02-01T08:49:54.233425Z",
     "start_time": "2021-02-01T08:49:54.095Z"
    }
   },
   "outputs": [
    {
     "data": {
      "image/png": "[encoded data removed]",
      "text/plain": [
       "Plot with title “density.default(x = e)”"
      ]
     },
     "metadata": {
      "image/png": {
       "height": 420,
       "width": 420
      }
     },
     "output_type": "display_data"
    }
   ],
   "source": [
    "plot(density(e))"
   ]
  },
  {
   "cell_type": "markdown",
   "metadata": {},
   "source": [
    "$ x_i = \\epsilon_i + u_i$"
   ]
  },
  {
   "cell_type": "code",
   "execution_count": 15,
   "metadata": {
    "ExecuteTime": {
     "end_time": "2021-02-01T08:52:59.021341Z",
     "start_time": "2021-02-01T08:52:59.007Z"
    }
   },
   "outputs": [],
   "source": [
    "x = e+u"
   ]
  },
  {
   "cell_type": "markdown",
   "metadata": {},
   "source": [
    "$z_i = v_i + u_i$"
   ]
  },
  {
   "cell_type": "code",
   "execution_count": 16,
   "metadata": {
    "ExecuteTime": {
     "end_time": "2021-02-01T08:53:00.420493Z",
     "start_time": "2021-02-01T08:53:00.410Z"
    }
   },
   "outputs": [],
   "source": [
    "z = v+u"
   ]
  },
  {
   "cell_type": "markdown",
   "metadata": {},
   "source": [
    "$y_i = 2+0.4*x_i+\\epsilon_i$"
   ]
  },
  {
   "cell_type": "code",
   "execution_count": 17,
   "metadata": {
    "ExecuteTime": {
     "end_time": "2021-02-01T08:53:00.951883Z",
     "start_time": "2021-02-01T08:53:00.940Z"
    }
   },
   "outputs": [],
   "source": [
    "y = 2+0.4*x+e"
   ]
  },
  {
   "cell_type": "code",
   "execution_count": 18,
   "metadata": {
    "ExecuteTime": {
     "end_time": "2021-02-01T08:53:41.159405Z",
     "start_time": "2021-02-01T08:53:41.140Z"
    }
   },
   "outputs": [
    {
     "data": {
      "text/plain": [
       "\n",
       "Call:\n",
       "lm(formula = y ~ x)\n",
       "\n",
       "Residuals:\n",
       "     Min       1Q   Median       3Q      Max \n",
       "-2.36265 -0.46951  0.00693  0.45128  2.34085 \n",
       "\n",
       "Coefficients:\n",
       "            Estimate Std. Error t value Pr(>|t|)    \n",
       "(Intercept)  1.99238    0.01543  129.12   <2e-16 ***\n",
       "x            0.89696    0.01093   82.08   <2e-16 ***\n",
       "---\n",
       "Signif. codes:  0 ‘***’ 0.001 ‘**’ 0.01 ‘*’ 0.05 ‘.’ 0.1 ‘ ’ 1\n",
       "\n",
       "Residual standard error: 0.6901 on 1998 degrees of freedom\n",
       "Multiple R-squared:  0.7713,\tAdjusted R-squared:  0.7712 \n",
       "F-statistic:  6737 on 1 and 1998 DF,  p-value: < 2.2e-16\n"
      ]
     },
     "metadata": {},
     "output_type": "display_data"
    }
   ],
   "source": [
    "mod0 = lm(y~x)\n",
    "summary(mod0)"
   ]
  },
  {
   "cell_type": "markdown",
   "metadata": {},
   "source": [
    "$H_0: \\hat{b}=0.4$"
   ]
  },
  {
   "cell_type": "code",
   "execution_count": 19,
   "metadata": {
    "ExecuteTime": {
     "end_time": "2021-02-01T08:56:53.554023Z",
     "start_time": "2021-02-01T08:56:53.543Z"
    }
   },
   "outputs": [
    {
     "data": {
      "text/html": [
       "45.4675205855444"
      ],
      "text/latex": [
       "45.4675205855444"
      ],
      "text/markdown": [
       "45.4675205855444"
      ],
      "text/plain": [
       "[1] 45.46752"
      ]
     },
     "metadata": {},
     "output_type": "display_data"
    }
   ],
   "source": [
    "(0.89696-0.4)/0.01093"
   ]
  },
  {
   "cell_type": "code",
   "execution_count": 20,
   "metadata": {
    "ExecuteTime": {
     "end_time": "2021-02-01T09:05:57.220016Z",
     "start_time": "2021-02-01T09:05:56.148Z"
    }
   },
   "outputs": [
    {
     "name": "stderr",
     "output_type": "stream",
     "text": [
      "Loading required package: car\n",
      "\n",
      "Loading required package: carData\n",
      "\n",
      "Loading required package: lmtest\n",
      "\n",
      "Loading required package: zoo\n",
      "\n",
      "\n",
      "Attaching package: ‘zoo’\n",
      "\n",
      "\n",
      "The following objects are masked from ‘package:base’:\n",
      "\n",
      "    as.Date, as.Date.numeric\n",
      "\n",
      "\n",
      "Loading required package: sandwich\n",
      "\n",
      "Loading required package: survival\n",
      "\n"
     ]
    }
   ],
   "source": [
    "library(AER) # ivreg\n",
    "#tsls          "
   ]
  },
  {
   "cell_type": "code",
   "execution_count": 26,
   "metadata": {
    "ExecuteTime": {
     "end_time": "2021-02-01T09:08:53.566552Z",
     "start_time": "2021-02-01T09:08:53.550Z"
    }
   },
   "outputs": [
    {
     "data": {
      "text/plain": [
       "\n",
       "Call:\n",
       "lm(formula = x ~ z)\n",
       "\n",
       "Residuals:\n",
       "    Min      1Q  Median      3Q     Max \n",
       "-4.5802 -0.8146  0.0160  0.8604  4.0445 \n",
       "\n",
       "Coefficients:\n",
       "            Estimate Std. Error t value Pr(>|t|)    \n",
       "(Intercept) 0.001942   0.027509   0.071    0.944    \n",
       "z           0.484063   0.019179  25.239   <2e-16 ***\n",
       "---\n",
       "Signif. codes:  0 ‘***’ 0.001 ‘**’ 0.01 ‘*’ 0.05 ‘.’ 0.1 ‘ ’ 1\n",
       "\n",
       "Residual standard error: 1.23 on 1998 degrees of freedom\n",
       "Multiple R-squared:  0.2418,\tAdjusted R-squared:  0.2414 \n",
       "F-statistic:   637 on 1 and 1998 DF,  p-value: < 2.2e-16\n"
      ]
     },
     "metadata": {},
     "output_type": "display_data"
    }
   ],
   "source": [
    "mod_1step = lm(x~z)\n",
    "summary(mod_1step)"
   ]
  },
  {
   "cell_type": "code",
   "execution_count": 27,
   "metadata": {
    "ExecuteTime": {
     "end_time": "2021-02-01T09:09:39.760570Z",
     "start_time": "2021-02-01T09:09:39.747Z"
    }
   },
   "outputs": [],
   "source": [
    "est_x <- mod_1step$fitted.values"
   ]
  },
  {
   "cell_type": "code",
   "execution_count": 28,
   "metadata": {
    "ExecuteTime": {
     "end_time": "2021-02-01T09:10:13.848360Z",
     "start_time": "2021-02-01T09:10:13.826Z"
    }
   },
   "outputs": [
    {
     "data": {
      "text/plain": [
       "\n",
       "Call:\n",
       "lm(formula = y ~ est_x)\n",
       "\n",
       "Residuals:\n",
       "    Min      1Q  Median      3Q     Max \n",
       "-5.6695 -0.9507 -0.0043  0.9325  5.0132 \n",
       "\n",
       "Coefficients:\n",
       "            Estimate Std. Error t value Pr(>|t|)    \n",
       "(Intercept)  1.99209    0.03170  62.834   <2e-16 ***\n",
       "est_x        0.38557    0.04566   8.444   <2e-16 ***\n",
       "---\n",
       "Signif. codes:  0 ‘***’ 0.001 ‘**’ 0.01 ‘*’ 0.05 ‘.’ 0.1 ‘ ’ 1\n",
       "\n",
       "Residual standard error: 1.418 on 1998 degrees of freedom\n",
       "Multiple R-squared:  0.03445,\tAdjusted R-squared:  0.03397 \n",
       "F-statistic:  71.3 on 1 and 1998 DF,  p-value: < 2.2e-16\n"
      ]
     },
     "metadata": {},
     "output_type": "display_data"
    }
   ],
   "source": [
    "mod_2step = lm(y~est_x)\n",
    "summary(mod_2step)"
   ]
  },
  {
   "cell_type": "code",
   "execution_count": 25,
   "metadata": {
    "ExecuteTime": {
     "end_time": "2021-02-01T09:07:25.822490Z",
     "start_time": "2021-02-01T09:07:25.785Z"
    }
   },
   "outputs": [
    {
     "data": {
      "text/plain": [
       "\n",
       "Call:\n",
       "ivreg(formula = y ~ x | z)\n",
       "\n",
       "Residuals:\n",
       "      Min        1Q    Median        3Q       Max \n",
       "-3.903497 -0.675856  0.007675  0.677265  3.591768 \n",
       "\n",
       "Coefficients:\n",
       "            Estimate Std. Error t value Pr(>|t|)    \n",
       "(Intercept)  1.99209    0.02234   89.17   <2e-16 ***\n",
       "x            0.38557    0.03218   11.98   <2e-16 ***\n",
       "\n",
       "Diagnostic tests:\n",
       "                  df1  df2 statistic p-value    \n",
       "Weak instruments    1 1998       637  <2e-16 ***\n",
       "Wu-Hausman          1 1997      1073  <2e-16 ***\n",
       "Sargan              0   NA        NA      NA    \n",
       "---\n",
       "Signif. codes:  0 ‘***’ 0.001 ‘**’ 0.01 ‘*’ 0.05 ‘.’ 0.1 ‘ ’ 1\n",
       "\n",
       "Residual standard error: 0.9991 on 1998 degrees of freedom\n",
       "Multiple R-Squared: 0.5206,\tAdjusted R-squared: 0.5203 \n",
       "Wald test: 143.6 on 1 and 1998 DF,  p-value: < 2.2e-16 \n"
      ]
     },
     "metadata": {},
     "output_type": "display_data"
    }
   ],
   "source": [
    "mod_iv = ivreg(y~x|z)\n",
    "summary(mod_iv, diagnostics=TRUE)"
   ]
  },
  {
   "cell_type": "code",
   "execution_count": null,
   "metadata": {},
   "outputs": [],
   "source": []
  },
  {
   "cell_type": "code",
   "execution_count": null,
   "metadata": {},
   "outputs": [],
   "source": []
  }
 ],
 "metadata": {
  "hide_input": false,
  "kernelspec": {
   "display_name": "R 4.0.2",
   "language": "R",
   "name": "ir"
  },
  "language_info": {
   "codemirror_mode": "r",
   "file_extension": ".r",
   "mimetype": "text/x-r-source",
   "name": "R",
   "pygments_lexer": "r",
   "version": "4.0.2"
  },
  "toc": {
   "base_numbering": 1,
   "nav_menu": {},
   "number_sections": true,
   "sideBar": true,
   "skip_h1_title": false,
   "title_cell": "Table of Contents",
   "title_sidebar": "Contents",
   "toc_cell": false,
   "toc_position": {},
   "toc_section_display": true,
   "toc_window_display": false
  },
  "varInspector": {
   "cols": {
    "lenName": 16,
    "lenType": 16,
    "lenVar": 40
   },
   "kernels_config": {
    "python": {
     "delete_cmd_postfix": "",
     "delete_cmd_prefix": "del ",
     "library": "var_list.py",
     "varRefreshCmd": "print(var_dic_list())"
    },
    "r": {
     "delete_cmd_postfix": ") ",
     "delete_cmd_prefix": "rm(",
     "library": "var_list.r",
     "varRefreshCmd": "cat(var_dic_list()) "
    }
   },
   "types_to_exclude": [
    "module",
    "function",
    "builtin_function_or_method",
    "instance",
    "_Feature"
   ],
   "window_display": false
  }
 },
 "nbformat": 4,
 "nbformat_minor": 4
}
